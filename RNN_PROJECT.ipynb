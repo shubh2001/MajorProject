{
  "cells": [
    {
      "cell_type": "markdown",
      "metadata": {
        "id": "view-in-github",
        "colab_type": "text"
      },
      "source": [
        "<a href=\"https://colab.research.google.com/github/shubh2001/MajorProject/blob/main/RNN_PROJECT.ipynb\" target=\"_parent\"><img src=\"https://colab.research.google.com/assets/colab-badge.svg\" alt=\"Open In Colab\"/></a>"
      ]
    },
    {
      "cell_type": "code",
      "source": [
        "from google.colab import drive\n",
        "drive.mount('/content/drive')"
      ],
      "metadata": {
        "id": "0l8PSy6Qy8CO",
        "outputId": "0e9f9e4c-05bb-40a3-c244-1d81e74c0190",
        "colab": {
          "base_uri": "https://localhost:8080/",
          "height": 0
        }
      },
      "execution_count": 140,
      "outputs": [
        {
          "output_type": "stream",
          "name": "stdout",
          "text": [
            "Drive already mounted at /content/drive; to attempt to forcibly remount, call drive.mount(\"/content/drive\", force_remount=True).\n"
          ]
        }
      ]
    },
    {
      "cell_type": "code",
      "source": [
        "file_path = \"/content/drive/MyDrive/A32_5.DAT\""
      ],
      "metadata": {
        "id": "ORNWBwsDy9oz"
      },
      "execution_count": 141,
      "outputs": []
    },
    {
      "cell_type": "code",
      "source": [
        "import pandas as pd\n",
        "import numpy as np\n",
        "import matplotlib.pyplot as plt"
      ],
      "metadata": {
        "id": "04WNdXyN0Rq6"
      },
      "execution_count": 142,
      "outputs": []
    },
    {
      "cell_type": "code",
      "source": [
        "df = pd.read_csv(file_path,\n",
        "                 sep=\"\\s+\",names=['Time','A1','A2','A3','A4','A5'])\n",
        "df.index.freq = 'S'\n"
      ],
      "metadata": {
        "id": "DcIpskmD0f5A"
      },
      "execution_count": 143,
      "outputs": []
    },
    {
      "cell_type": "code",
      "source": [
        "df.head()"
      ],
      "metadata": {
        "id": "wGFfHGMF0zyk",
        "outputId": "f01117c6-3f78-486d-f17b-1903a2204681",
        "colab": {
          "base_uri": "https://localhost:8080/",
          "height": 206
        }
      },
      "execution_count": 144,
      "outputs": [
        {
          "output_type": "execute_result",
          "data": {
            "text/plain": [
              "         Time      A1       A2        A3        A4        A5\n",
              "0  1259.89954 -1.8701  1.18590 -0.210350  0.106850 -0.022986\n",
              "1  1260.10754 -1.8671  1.00230 -0.159300  0.052682 -0.007717\n",
              "2  1260.31555 -1.8447  0.81752 -0.106960  0.007654  0.003839\n",
              "3  1260.52356 -1.8028  0.63352 -0.055525 -0.027261  0.011346\n",
              "4  1260.73157 -1.7417  0.45239 -0.007105 -0.051577  0.014834"
            ],
            "text/html": [
              "\n",
              "  <div id=\"df-18bc8650-2de4-4910-bed1-044db844f682\">\n",
              "    <div class=\"colab-df-container\">\n",
              "      <div>\n",
              "<style scoped>\n",
              "    .dataframe tbody tr th:only-of-type {\n",
              "        vertical-align: middle;\n",
              "    }\n",
              "\n",
              "    .dataframe tbody tr th {\n",
              "        vertical-align: top;\n",
              "    }\n",
              "\n",
              "    .dataframe thead th {\n",
              "        text-align: right;\n",
              "    }\n",
              "</style>\n",
              "<table border=\"1\" class=\"dataframe\">\n",
              "  <thead>\n",
              "    <tr style=\"text-align: right;\">\n",
              "      <th></th>\n",
              "      <th>Time</th>\n",
              "      <th>A1</th>\n",
              "      <th>A2</th>\n",
              "      <th>A3</th>\n",
              "      <th>A4</th>\n",
              "      <th>A5</th>\n",
              "    </tr>\n",
              "  </thead>\n",
              "  <tbody>\n",
              "    <tr>\n",
              "      <th>0</th>\n",
              "      <td>1259.89954</td>\n",
              "      <td>-1.8701</td>\n",
              "      <td>1.18590</td>\n",
              "      <td>-0.210350</td>\n",
              "      <td>0.106850</td>\n",
              "      <td>-0.022986</td>\n",
              "    </tr>\n",
              "    <tr>\n",
              "      <th>1</th>\n",
              "      <td>1260.10754</td>\n",
              "      <td>-1.8671</td>\n",
              "      <td>1.00230</td>\n",
              "      <td>-0.159300</td>\n",
              "      <td>0.052682</td>\n",
              "      <td>-0.007717</td>\n",
              "    </tr>\n",
              "    <tr>\n",
              "      <th>2</th>\n",
              "      <td>1260.31555</td>\n",
              "      <td>-1.8447</td>\n",
              "      <td>0.81752</td>\n",
              "      <td>-0.106960</td>\n",
              "      <td>0.007654</td>\n",
              "      <td>0.003839</td>\n",
              "    </tr>\n",
              "    <tr>\n",
              "      <th>3</th>\n",
              "      <td>1260.52356</td>\n",
              "      <td>-1.8028</td>\n",
              "      <td>0.63352</td>\n",
              "      <td>-0.055525</td>\n",
              "      <td>-0.027261</td>\n",
              "      <td>0.011346</td>\n",
              "    </tr>\n",
              "    <tr>\n",
              "      <th>4</th>\n",
              "      <td>1260.73157</td>\n",
              "      <td>-1.7417</td>\n",
              "      <td>0.45239</td>\n",
              "      <td>-0.007105</td>\n",
              "      <td>-0.051577</td>\n",
              "      <td>0.014834</td>\n",
              "    </tr>\n",
              "  </tbody>\n",
              "</table>\n",
              "</div>\n",
              "      <button class=\"colab-df-convert\" onclick=\"convertToInteractive('df-18bc8650-2de4-4910-bed1-044db844f682')\"\n",
              "              title=\"Convert this dataframe to an interactive table.\"\n",
              "              style=\"display:none;\">\n",
              "        \n",
              "  <svg xmlns=\"http://www.w3.org/2000/svg\" height=\"24px\"viewBox=\"0 0 24 24\"\n",
              "       width=\"24px\">\n",
              "    <path d=\"M0 0h24v24H0V0z\" fill=\"none\"/>\n",
              "    <path d=\"M18.56 5.44l.94 2.06.94-2.06 2.06-.94-2.06-.94-.94-2.06-.94 2.06-2.06.94zm-11 1L8.5 8.5l.94-2.06 2.06-.94-2.06-.94L8.5 2.5l-.94 2.06-2.06.94zm10 10l.94 2.06.94-2.06 2.06-.94-2.06-.94-.94-2.06-.94 2.06-2.06.94z\"/><path d=\"M17.41 7.96l-1.37-1.37c-.4-.4-.92-.59-1.43-.59-.52 0-1.04.2-1.43.59L10.3 9.45l-7.72 7.72c-.78.78-.78 2.05 0 2.83L4 21.41c.39.39.9.59 1.41.59.51 0 1.02-.2 1.41-.59l7.78-7.78 2.81-2.81c.8-.78.8-2.07 0-2.86zM5.41 20L4 18.59l7.72-7.72 1.47 1.35L5.41 20z\"/>\n",
              "  </svg>\n",
              "      </button>\n",
              "      \n",
              "  <style>\n",
              "    .colab-df-container {\n",
              "      display:flex;\n",
              "      flex-wrap:wrap;\n",
              "      gap: 12px;\n",
              "    }\n",
              "\n",
              "    .colab-df-convert {\n",
              "      background-color: #E8F0FE;\n",
              "      border: none;\n",
              "      border-radius: 50%;\n",
              "      cursor: pointer;\n",
              "      display: none;\n",
              "      fill: #1967D2;\n",
              "      height: 32px;\n",
              "      padding: 0 0 0 0;\n",
              "      width: 32px;\n",
              "    }\n",
              "\n",
              "    .colab-df-convert:hover {\n",
              "      background-color: #E2EBFA;\n",
              "      box-shadow: 0px 1px 2px rgba(60, 64, 67, 0.3), 0px 1px 3px 1px rgba(60, 64, 67, 0.15);\n",
              "      fill: #174EA6;\n",
              "    }\n",
              "\n",
              "    [theme=dark] .colab-df-convert {\n",
              "      background-color: #3B4455;\n",
              "      fill: #D2E3FC;\n",
              "    }\n",
              "\n",
              "    [theme=dark] .colab-df-convert:hover {\n",
              "      background-color: #434B5C;\n",
              "      box-shadow: 0px 1px 3px 1px rgba(0, 0, 0, 0.15);\n",
              "      filter: drop-shadow(0px 1px 2px rgba(0, 0, 0, 0.3));\n",
              "      fill: #FFFFFF;\n",
              "    }\n",
              "  </style>\n",
              "\n",
              "      <script>\n",
              "        const buttonEl =\n",
              "          document.querySelector('#df-18bc8650-2de4-4910-bed1-044db844f682 button.colab-df-convert');\n",
              "        buttonEl.style.display =\n",
              "          google.colab.kernel.accessAllowed ? 'block' : 'none';\n",
              "\n",
              "        async function convertToInteractive(key) {\n",
              "          const element = document.querySelector('#df-18bc8650-2de4-4910-bed1-044db844f682');\n",
              "          const dataTable =\n",
              "            await google.colab.kernel.invokeFunction('convertToInteractive',\n",
              "                                                     [key], {});\n",
              "          if (!dataTable) return;\n",
              "\n",
              "          const docLinkHtml = 'Like what you see? Visit the ' +\n",
              "            '<a target=\"_blank\" href=https://colab.research.google.com/notebooks/data_table.ipynb>data table notebook</a>'\n",
              "            + ' to learn more about interactive tables.';\n",
              "          element.innerHTML = '';\n",
              "          dataTable['output_type'] = 'display_data';\n",
              "          await google.colab.output.renderOutput(dataTable, element);\n",
              "          const docLink = document.createElement('div');\n",
              "          docLink.innerHTML = docLinkHtml;\n",
              "          element.appendChild(docLink);\n",
              "        }\n",
              "      </script>\n",
              "    </div>\n",
              "  </div>\n",
              "  "
            ]
          },
          "metadata": {},
          "execution_count": 144
        }
      ]
    },
    {
      "cell_type": "code",
      "source": [
        "len(df)"
      ],
      "metadata": {
        "colab": {
          "base_uri": "https://localhost:8080/",
          "height": 0
        },
        "id": "XhRQZy3Y8vng",
        "outputId": "b27e09d0-794b-412c-85ef-f59010115aea"
      },
      "execution_count": 145,
      "outputs": [
        {
          "output_type": "execute_result",
          "data": {
            "text/plain": [
              "32"
            ]
          },
          "metadata": {},
          "execution_count": 145
        }
      ]
    },
    {
      "cell_type": "code",
      "source": [
        "df.plot(x=\"Time\", y=[\"A1\",\"A2\",\"A3\",\"A4\",\"A5\"], figsize=(12,6))"
      ],
      "metadata": {
        "colab": {
          "base_uri": "https://localhost:8080/",
          "height": 405
        },
        "id": "i4hOtPlR-oLF",
        "outputId": "061888be-3d60-4a86-f002-8902c395482c"
      },
      "execution_count": 146,
      "outputs": [
        {
          "output_type": "execute_result",
          "data": {
            "text/plain": [
              "<matplotlib.axes._subplots.AxesSubplot at 0x7f0f67b451f0>"
            ]
          },
          "metadata": {},
          "execution_count": 146
        },
        {
          "output_type": "display_data",
          "data": {
            "text/plain": [
              "<Figure size 864x432 with 1 Axes>"
            ],
            "image/png": "[encoded data removed]"
          },
          "metadata": {
            "needs_background": "light"
          }
        }
      ]
    },
    {
      "cell_type": "code",
      "source": [
        "train = df.iloc[:28].drop('Time', axis = 1)\n",
        "test = df.iloc[28:].drop('Time', axis = 1)"
      ],
      "metadata": {
        "id": "Ifi2d01DKAXh"
      },
      "execution_count": 147,
      "outputs": []
    },
    {
      "cell_type": "code",
      "source": [
        "from sklearn.preprocessing import MinMaxScaler\n",
        "scaler = MinMaxScaler()"
      ],
      "metadata": {
        "id": "zKgri4aFMHQR"
      },
      "execution_count": 148,
      "outputs": []
    },
    {
      "cell_type": "code",
      "source": [
        "scaler.fit(train)\n",
        "scaled_train = scaler.transform(train)\n",
        "scaled_test = scaler.transform(test)"
      ],
      "metadata": {
        "id": "cumebUL82BcG"
      },
      "execution_count": 149,
      "outputs": []
    },
    {
      "cell_type": "code",
      "source": [
        "scaled_train[:5]"
      ],
      "metadata": {
        "colab": {
          "base_uri": "https://localhost:8080/",
          "height": 0
        },
        "id": "D_zu0v212k0O",
        "outputId": "8b777f16-a91c-40a8-d3a8-23cccbc2b51f"
      },
      "execution_count": 150,
      "outputs": [
        {
          "output_type": "execute_result",
          "data": {
            "text/plain": [
              "array([[0.00000000e+00, 1.00000000e+00, 0.00000000e+00, 1.00000000e+00,\n",
              "        0.00000000e+00],\n",
              "       [8.30748782e-04, 9.06238031e-01, 1.49168688e-01, 6.92132813e-01,\n",
              "        4.03736118e-01],\n",
              "       [7.03367302e-03, 8.11873452e-01, 3.02106770e-01, 4.36214520e-01,\n",
              "        7.09286092e-01],\n",
              "       [1.86364643e-02, 7.17907208e-01, 4.52400432e-01, 2.37771816e-01,\n",
              "        9.07773665e-01],\n",
              "       [3.55560479e-02, 6.25406634e-01, 5.93883646e-01, 9.95703227e-02,\n",
              "        1.00000000e+00]])"
            ]
          },
          "metadata": {},
          "execution_count": 150
        }
      ]
    },
    {
      "cell_type": "code",
      "source": [
        "from keras.preprocessing.sequence import TimeseriesGenerator"
      ],
      "metadata": {
        "id": "upFlubf_2zl9"
      },
      "execution_count": 151,
      "outputs": []
    },
    {
      "cell_type": "code",
      "source": [
        "# Generator\n",
        "n_input = 10\n",
        "n_features = 5 \n",
        "generator = TimeseriesGenerator(scaled_train, scaled_train, length = n_input, batch_size = 1)"
      ],
      "metadata": {
        "id": "M_tRn6BO49A2"
      },
      "execution_count": 152,
      "outputs": []
    },
    {
      "cell_type": "code",
      "source": [
        "from keras.models import Sequential\n",
        "from keras.layers import Dense\n",
        "from keras.layers import LSTM"
      ],
      "metadata": {
        "id": "Wua92pMd71pE"
      },
      "execution_count": 153,
      "outputs": []
    },
    {
      "cell_type": "code",
      "source": [
        "model = Sequential()\n",
        "model.add(LSTM(128, activation='relu', input_shape=(n_input, n_features)))\n",
        "model.add(Dense(5))\n",
        "model.compile(optimizer='adam', loss='mse')"
      ],
      "metadata": {
        "id": "I-qjSPPx9XZe"
      },
      "execution_count": 176,
      "outputs": []
    },
    {
      "cell_type": "code",
      "source": [
        "model.summary()\n"
      ],
      "metadata": {
        "colab": {
          "base_uri": "https://localhost:8080/",
          "height": 0
        },
        "id": "aFStFMn1_zjN",
        "outputId": "e8cc4027-0492-4988-c373-6d6a364fc1ad"
      },
      "execution_count": 177,
      "outputs": [
        {
          "output_type": "stream",
          "name": "stdout",
          "text": [
            "Model: \"sequential_8\"\n",
            "_________________________________________________________________\n",
            " Layer (type)                Output Shape              Param #   \n",
            "=================================================================\n",
            " lstm_9 (LSTM)               (None, 128)               68608     \n",
            "                                                                 \n",
            " dense_7 (Dense)             (None, 5)                 645       \n",
            "                                                                 \n",
            "=================================================================\n",
            "Total params: 69,253\n",
            "Trainable params: 69,253\n",
            "Non-trainable params: 0\n",
            "_________________________________________________________________\n"
          ]
        }
      ]
    },
    {
      "cell_type": "code",
      "source": [
        "model.fit(generator,epochs=50)\n"
      ],
      "metadata": {
        "colab": {
          "base_uri": "https://localhost:8080/",
          "height": 0
        },
        "id": "UxDNKEyp_2Dm",
        "outputId": "80f474c1-2edc-43ef-e40a-af5c196835d1"
      },
      "execution_count": 178,
      "outputs": [
        {
          "output_type": "stream",
          "name": "stdout",
          "text": [
            "Epoch 1/50\n",
            "18/18 [==============================] - 1s 6ms/step - loss: 0.1364\n",
            "Epoch 2/50\n",
            "18/18 [==============================] - 0s 5ms/step - loss: 0.0536\n",
            "Epoch 3/50\n",
            "18/18 [==============================] - 0s 5ms/step - loss: 0.0299\n",
            "Epoch 4/50\n",
            "18/18 [==============================] - 0s 7ms/step - loss: 0.0169\n",
            "Epoch 5/50\n",
            "18/18 [==============================] - 0s 6ms/step - loss: 0.0098\n",
            "Epoch 6/50\n",
            "18/18 [==============================] - 0s 5ms/step - loss: 0.0058\n",
            "Epoch 7/50\n",
            "18/18 [==============================] - 0s 6ms/step - loss: 0.0029\n",
            "Epoch 8/50\n",
            "18/18 [==============================] - 0s 5ms/step - loss: 0.0021\n",
            "Epoch 9/50\n",
            "18/18 [==============================] - 0s 5ms/step - loss: 0.0019\n",
            "Epoch 10/50\n",
            "18/18 [==============================] - 0s 6ms/step - loss: 0.0012\n",
            "Epoch 11/50\n",
            "18/18 [==============================] - 0s 6ms/step - loss: 7.9171e-04\n",
            "Epoch 12/50\n",
            "18/18 [==============================] - 0s 6ms/step - loss: 6.6907e-04\n",
            "Epoch 13/50\n",
            "18/18 [==============================] - 0s 5ms/step - loss: 0.0010\n",
            "Epoch 14/50\n",
            "18/18 [==============================] - 0s 5ms/step - loss: 0.0010\n",
            "Epoch 15/50\n",
            "18/18 [==============================] - 0s 5ms/step - loss: 6.9494e-04\n",
            "Epoch 16/50\n",
            "18/18 [==============================] - 0s 5ms/step - loss: 4.8767e-04\n",
            "Epoch 17/50\n",
            "18/18 [==============================] - 0s 5ms/step - loss: 4.4439e-04\n",
            "Epoch 18/50\n",
            "18/18 [==============================] - 0s 6ms/step - loss: 4.2323e-04\n",
            "Epoch 19/50\n",
            "18/18 [==============================] - 0s 5ms/step - loss: 2.8049e-04\n",
            "Epoch 20/50\n",
            "18/18 [==============================] - 0s 6ms/step - loss: 4.4237e-04\n",
            "Epoch 21/50\n",
            "18/18 [==============================] - 0s 7ms/step - loss: 7.1281e-04\n",
            "Epoch 22/50\n",
            "18/18 [==============================] - 0s 11ms/step - loss: 8.3968e-04\n",
            "Epoch 23/50\n",
            "18/18 [==============================] - 0s 9ms/step - loss: 5.6078e-04\n",
            "Epoch 24/50\n",
            "18/18 [==============================] - 0s 10ms/step - loss: 6.2507e-04\n",
            "Epoch 25/50\n",
            "18/18 [==============================] - 0s 12ms/step - loss: 6.2832e-04\n",
            "Epoch 26/50\n",
            "18/18 [==============================] - 0s 9ms/step - loss: 3.0296e-04\n",
            "Epoch 27/50\n",
            "18/18 [==============================] - 0s 8ms/step - loss: 3.2806e-04\n",
            "Epoch 28/50\n",
            "18/18 [==============================] - 0s 10ms/step - loss: 5.5627e-04\n",
            "Epoch 29/50\n",
            "18/18 [==============================] - 0s 12ms/step - loss: 3.4324e-04\n",
            "Epoch 30/50\n",
            "18/18 [==============================] - 0s 9ms/step - loss: 2.4717e-04\n",
            "Epoch 31/50\n",
            "18/18 [==============================] - 0s 10ms/step - loss: 2.0609e-04\n",
            "Epoch 32/50\n",
            "18/18 [==============================] - 0s 11ms/step - loss: 1.5090e-04\n",
            "Epoch 33/50\n",
            "18/18 [==============================] - 0s 11ms/step - loss: 1.8740e-04\n",
            "Epoch 34/50\n",
            "18/18 [==============================] - 0s 8ms/step - loss: 3.4243e-04\n",
            "Epoch 35/50\n",
            "18/18 [==============================] - 0s 10ms/step - loss: 0.0012\n",
            "Epoch 36/50\n",
            "18/18 [==============================] - 0s 11ms/step - loss: 0.0016\n",
            "Epoch 37/50\n",
            "18/18 [==============================] - 0s 10ms/step - loss: 8.7688e-04\n",
            "Epoch 38/50\n",
            "18/18 [==============================] - 0s 6ms/step - loss: 0.0011\n",
            "Epoch 39/50\n",
            "18/18 [==============================] - 0s 5ms/step - loss: 3.5855e-04\n",
            "Epoch 40/50\n",
            "18/18 [==============================] - 0s 5ms/step - loss: 2.1289e-04\n",
            "Epoch 41/50\n",
            "18/18 [==============================] - 0s 6ms/step - loss: 1.6366e-04\n",
            "Epoch 42/50\n",
            "18/18 [==============================] - 0s 6ms/step - loss: 1.6133e-04\n",
            "Epoch 43/50\n",
            "18/18 [==============================] - 0s 5ms/step - loss: 1.8791e-04\n",
            "Epoch 44/50\n",
            "18/18 [==============================] - 0s 6ms/step - loss: 1.9473e-04\n",
            "Epoch 45/50\n",
            "18/18 [==============================] - 0s 5ms/step - loss: 1.1336e-04\n",
            "Epoch 46/50\n",
            "18/18 [==============================] - 0s 5ms/step - loss: 8.7956e-05\n",
            "Epoch 47/50\n",
            "18/18 [==============================] - 0s 5ms/step - loss: 7.9972e-05\n",
            "Epoch 48/50\n",
            "18/18 [==============================] - 0s 5ms/step - loss: 6.6053e-05\n",
            "Epoch 49/50\n",
            "18/18 [==============================] - 0s 6ms/step - loss: 6.5963e-05\n",
            "Epoch 50/50\n",
            "18/18 [==============================] - 0s 5ms/step - loss: 9.3305e-05\n"
          ]
        },
        {
          "output_type": "execute_result",
          "data": {
            "text/plain": [
              "<keras.callbacks.History at 0x7f0f646a3130>"
            ]
          },
          "metadata": {},
          "execution_count": 178
        }
      ]
    },
    {
      "cell_type": "code",
      "source": [
        "loss_per_epoch = model.history.history['loss']\n",
        "plt.plot(range(len(loss_per_epoch)),loss_per_epoch)"
      ],
      "metadata": {
        "colab": {
          "base_uri": "https://localhost:8080/",
          "height": 282
        },
        "id": "MuS6rvi__4IM",
        "outputId": "56e04d21-ff18-4845-d2ee-a97168c66a14"
      },
      "execution_count": 179,
      "outputs": [
        {
          "output_type": "execute_result",
          "data": {
            "text/plain": [
              "[<matplotlib.lines.Line2D at 0x7f0f64300400>]"
            ]
          },
          "metadata": {},
          "execution_count": 179
        },
        {
          "output_type": "display_data",
          "data": {
            "text/plain": [
              "<Figure size 432x288 with 1 Axes>"
            ],
            "image/png": "[encoded data removed]"
          },
          "metadata": {
            "needs_background": "light"
          }
        }
      ]
    },
    {
      "cell_type": "code",
      "source": [
        "last_train_batch = scaled_train[-10:].reshape((1, n_input, n_features))"
      ],
      "metadata": {
        "id": "K8_hbFgRAR32"
      },
      "execution_count": 180,
      "outputs": []
    },
    {
      "cell_type": "code",
      "source": [
        "last_train_batch"
      ],
      "metadata": {
        "colab": {
          "base_uri": "https://localhost:8080/",
          "height": 0
        },
        "id": "eZJ5e70CCJlG",
        "outputId": "53616e7b-ad81-42e0-b5e9-8edb974f6a4a"
      },
      "execution_count": 181,
      "outputs": [
        {
          "output_type": "execute_result",
          "data": {
            "text/plain": [
              "array([[[0.65177226, 0.03314353, 0.37883003, 0.65552499, 0.92622951],\n",
              "        [0.70315131, 0.06587851, 0.30710341, 0.55721642, 0.97956108],\n",
              "        [0.75248948, 0.10879657, 0.25608509, 0.44054824, 0.96856161],\n",
              "        [0.79923571, 0.16126446, 0.22975777, 0.31671649, 0.89344262],\n",
              "        [0.84290541, 0.22249062, 0.23078047, 0.19824833, 0.76546272],\n",
              "        [0.88300288, 0.29156602, 0.26038045, 0.09800734, 0.60546034],\n",
              "        [0.91908507, 0.36749483, 0.31823627, 0.02830414, 0.44066896],\n",
              "        [0.95084736, 0.44921482, 0.40262397, 0.        , 0.30116341],\n",
              "        [0.97790208, 0.53564334, 0.51039067, 0.0218874 , 0.21615547],\n",
              "        [1.        , 0.6256773 , 0.63728691, 0.10019551, 0.21086727]]])"
            ]
          },
          "metadata": {},
          "execution_count": 181
        }
      ]
    },
    {
      "cell_type": "code",
      "source": [
        "model.predict(last_train_batch)"
      ],
      "metadata": {
        "colab": {
          "base_uri": "https://localhost:8080/",
          "height": 0
        },
        "id": "cvNtGpFlCBH9",
        "outputId": "0f1407bb-2007-4855-d04d-a96b5d1be764"
      },
      "execution_count": 182,
      "outputs": [
        {
          "output_type": "stream",
          "name": "stdout",
          "text": [
            "1/1 [==============================] - 0s 162ms/step\n"
          ]
        },
        {
          "output_type": "execute_result",
          "data": {
            "text/plain": [
              "array([[1.0388077 , 0.7066649 , 0.77414125, 0.17726782, 0.21022831]],\n",
              "      dtype=float32)"
            ]
          },
          "metadata": {},
          "execution_count": 182
        }
      ]
    },
    {
      "cell_type": "code",
      "source": [
        "\n",
        "scaled_test[0]"
      ],
      "metadata": {
        "colab": {
          "base_uri": "https://localhost:8080/",
          "height": 0
        },
        "id": "jd_Ul8nACDe1",
        "outputId": "09742466-6528-4ad1-956e-c829470cdae0"
      },
      "execution_count": 183,
      "outputs": [
        {
          "output_type": "execute_result",
          "data": {
            "text/plain": [
              "array([1.01694728, 0.71824426, 0.77814043, 0.23832881, 0.3039926 ])"
            ]
          },
          "metadata": {},
          "execution_count": 183
        }
      ]
    },
    {
      "cell_type": "code",
      "source": [
        "test_predictions = []\n",
        "\n",
        "first_eval_batch = scaled_train[-n_input:]\n",
        "current_batch = first_eval_batch.reshape((1, n_input, n_features))\n",
        "\n",
        "for i in range(len(test)):\n",
        "    \n",
        "    # get the prediction value for the first batch\n",
        "    current_pred = model.predict(current_batch)[0]\n",
        "    \n",
        "    # append the prediction into the array\n",
        "    test_predictions.append(current_pred) \n",
        "    \n",
        "    # use the prediction to update the batch and remove the first value\n",
        "    current_batch = np.append(current_batch[:,1:,:],[[current_pred]],axis=1)\n",
        "     \n",
        "true_predictions = scaler.inverse_transform(test_predictions)\n"
      ],
      "metadata": {
        "colab": {
          "base_uri": "https://localhost:8080/",
          "height": 0
        },
        "id": "XAqjavhuCsn_",
        "outputId": "b4bcc9a5-e81b-42d2-ae2f-f1f99054347f"
      },
      "execution_count": 184,
      "outputs": [
        {
          "output_type": "stream",
          "name": "stdout",
          "text": [
            "1/1 [==============================] - 0s 18ms/step\n",
            "1/1 [==============================] - 0s 18ms/step\n",
            "1/1 [==============================] - 0s 23ms/step\n",
            "1/1 [==============================] - 0s 19ms/step\n"
          ]
        }
      ]
    },
    {
      "cell_type": "code",
      "source": [
        "true_predictions"
      ],
      "metadata": {
        "colab": {
          "base_uri": "https://localhost:8080/",
          "height": 0
        },
        "id": "oqd4gg0lDmwm",
        "outputId": "d00dde1a-d32f-43b0-bc48-b28eed93219b"
      },
      "execution_count": 185,
      "outputs": [
        {
          "output_type": "execute_result",
          "data": {
            "text/plain": [
              "array([[ 1.88124255,  0.61150591,  0.05458436, -0.03790644, -0.01503517],\n",
              "       [ 1.98739543,  0.70753865,  0.09409782, -0.02195898, -0.01372108],\n",
              "       [ 2.10067937,  0.7616117 ,  0.12909167, -0.00405084, -0.01140975],\n",
              "       [ 2.23594964,  0.77177301,  0.15774937,  0.01572505, -0.00803589]])"
            ]
          },
          "metadata": {},
          "execution_count": 185
        }
      ]
    },
    {
      "cell_type": "code",
      "source": [
        "df_result = pd.DataFrame(true_predictions, columns =['A1','A2','A3','A4','A5'])"
      ],
      "metadata": {
        "id": "PrDou4WKD66w"
      },
      "execution_count": 186,
      "outputs": []
    },
    {
      "cell_type": "code",
      "source": [
        "df_result"
      ],
      "metadata": {
        "colab": {
          "base_uri": "https://localhost:8080/",
          "height": 175
        },
        "id": "0i8qij50HGKE",
        "outputId": "b5775a6d-85fa-4e7a-eeae-829c10a28315"
      },
      "execution_count": 187,
      "outputs": [
        {
          "output_type": "execute_result",
          "data": {
            "text/plain": [
              "         A1        A2        A3        A4        A5\n",
              "0  1.881243  0.611506  0.054584 -0.037906 -0.015035\n",
              "1  1.987395  0.707539  0.094098 -0.021959 -0.013721\n",
              "2  2.100679  0.761612  0.129092 -0.004051 -0.011410\n",
              "3  2.235950  0.771773  0.157749  0.015725 -0.008036"
            ],
            "text/html": [
              "\n",
              "  <div id=\"df-12abb55e-a33f-4dc9-af35-aec7dbf6c4f8\">\n",
              "    <div class=\"colab-df-container\">\n",
              "      <div>\n",
              "<style scoped>\n",
              "    .dataframe tbody tr th:only-of-type {\n",
              "        vertical-align: middle;\n",
              "    }\n",
              "\n",
              "    .dataframe tbody tr th {\n",
              "        vertical-align: top;\n",
              "    }\n",
              "\n",
              "    .dataframe thead th {\n",
              "        text-align: right;\n",
              "    }\n",
              "</style>\n",
              "<table border=\"1\" class=\"dataframe\">\n",
              "  <thead>\n",
              "    <tr style=\"text-align: right;\">\n",
              "      <th></th>\n",
              "      <th>A1</th>\n",
              "      <th>A2</th>\n",
              "      <th>A3</th>\n",
              "      <th>A4</th>\n",
              "      <th>A5</th>\n",
              "    </tr>\n",
              "  </thead>\n",
              "  <tbody>\n",
              "    <tr>\n",
              "      <th>0</th>\n",
              "      <td>1.881243</td>\n",
              "      <td>0.611506</td>\n",
              "      <td>0.054584</td>\n",
              "      <td>-0.037906</td>\n",
              "      <td>-0.015035</td>\n",
              "    </tr>\n",
              "    <tr>\n",
              "      <th>1</th>\n",
              "      <td>1.987395</td>\n",
              "      <td>0.707539</td>\n",
              "      <td>0.094098</td>\n",
              "      <td>-0.021959</td>\n",
              "      <td>-0.013721</td>\n",
              "    </tr>\n",
              "    <tr>\n",
              "      <th>2</th>\n",
              "      <td>2.100679</td>\n",
              "      <td>0.761612</td>\n",
              "      <td>0.129092</td>\n",
              "      <td>-0.004051</td>\n",
              "      <td>-0.011410</td>\n",
              "    </tr>\n",
              "    <tr>\n",
              "      <th>3</th>\n",
              "      <td>2.235950</td>\n",
              "      <td>0.771773</td>\n",
              "      <td>0.157749</td>\n",
              "      <td>0.015725</td>\n",
              "      <td>-0.008036</td>\n",
              "    </tr>\n",
              "  </tbody>\n",
              "</table>\n",
              "</div>\n",
              "      <button class=\"colab-df-convert\" onclick=\"convertToInteractive('df-12abb55e-a33f-4dc9-af35-aec7dbf6c4f8')\"\n",
              "              title=\"Convert this dataframe to an interactive table.\"\n",
              "              style=\"display:none;\">\n",
              "        \n",
              "  <svg xmlns=\"http://www.w3.org/2000/svg\" height=\"24px\"viewBox=\"0 0 24 24\"\n",
              "       width=\"24px\">\n",
              "    <path d=\"M0 0h24v24H0V0z\" fill=\"none\"/>\n",
              "    <path d=\"M18.56 5.44l.94 2.06.94-2.06 2.06-.94-2.06-.94-.94-2.06-.94 2.06-2.06.94zm-11 1L8.5 8.5l.94-2.06 2.06-.94-2.06-.94L8.5 2.5l-.94 2.06-2.06.94zm10 10l.94 2.06.94-2.06 2.06-.94-2.06-.94-.94-2.06-.94 2.06-2.06.94z\"/><path d=\"M17.41 7.96l-1.37-1.37c-.4-.4-.92-.59-1.43-.59-.52 0-1.04.2-1.43.59L10.3 9.45l-7.72 7.72c-.78.78-.78 2.05 0 2.83L4 21.41c.39.39.9.59 1.41.59.51 0 1.02-.2 1.41-.59l7.78-7.78 2.81-2.81c.8-.78.8-2.07 0-2.86zM5.41 20L4 18.59l7.72-7.72 1.47 1.35L5.41 20z\"/>\n",
              "  </svg>\n",
              "      </button>\n",
              "      \n",
              "  <style>\n",
              "    .colab-df-container {\n",
              "      display:flex;\n",
              "      flex-wrap:wrap;\n",
              "      gap: 12px;\n",
              "    }\n",
              "\n",
              "    .colab-df-convert {\n",
              "      background-color: #E8F0FE;\n",
              "      border: none;\n",
              "      border-radius: 50%;\n",
              "      cursor: pointer;\n",
              "      display: none;\n",
              "      fill: #1967D2;\n",
              "      height: 32px;\n",
              "      padding: 0 0 0 0;\n",
              "      width: 32px;\n",
              "    }\n",
              "\n",
              "    .colab-df-convert:hover {\n",
              "      background-color: #E2EBFA;\n",
              "      box-shadow: 0px 1px 2px rgba(60, 64, 67, 0.3), 0px 1px 3px 1px rgba(60, 64, 67, 0.15);\n",
              "      fill: #174EA6;\n",
              "    }\n",
              "\n",
              "    [theme=dark] .colab-df-convert {\n",
              "      background-color: #3B4455;\n",
              "      fill: #D2E3FC;\n",
              "    }\n",
              "\n",
              "    [theme=dark] .colab-df-convert:hover {\n",
              "      background-color: #434B5C;\n",
              "      box-shadow: 0px 1px 3px 1px rgba(0, 0, 0, 0.15);\n",
              "      filter: drop-shadow(0px 1px 2px rgba(0, 0, 0, 0.3));\n",
              "      fill: #FFFFFF;\n",
              "    }\n",
              "  </style>\n",
              "\n",
              "      <script>\n",
              "        const buttonEl =\n",
              "          document.querySelector('#df-12abb55e-a33f-4dc9-af35-aec7dbf6c4f8 button.colab-df-convert');\n",
              "        buttonEl.style.display =\n",
              "          google.colab.kernel.accessAllowed ? 'block' : 'none';\n",
              "\n",
              "        async function convertToInteractive(key) {\n",
              "          const element = document.querySelector('#df-12abb55e-a33f-4dc9-af35-aec7dbf6c4f8');\n",
              "          const dataTable =\n",
              "            await google.colab.kernel.invokeFunction('convertToInteractive',\n",
              "                                                     [key], {});\n",
              "          if (!dataTable) return;\n",
              "\n",
              "          const docLinkHtml = 'Like what you see? Visit the ' +\n",
              "            '<a target=\"_blank\" href=https://colab.research.google.com/notebooks/data_table.ipynb>data table notebook</a>'\n",
              "            + ' to learn more about interactive tables.';\n",
              "          element.innerHTML = '';\n",
              "          dataTable['output_type'] = 'display_data';\n",
              "          await google.colab.output.renderOutput(dataTable, element);\n",
              "          const docLink = document.createElement('div');\n",
              "          docLink.innerHTML = docLinkHtml;\n",
              "          element.appendChild(docLink);\n",
              "        }\n",
              "      </script>\n",
              "    </div>\n",
              "  </div>\n",
              "  "
            ]
          },
          "metadata": {},
          "execution_count": 187
        }
      ]
    },
    {
      "cell_type": "code",
      "source": [
        "test"
      ],
      "metadata": {
        "colab": {
          "base_uri": "https://localhost:8080/",
          "height": 175
        },
        "id": "RjXa8NW5HHnq",
        "outputId": "e93987ee-2d87-478b-ff7f-aa8381cf50ce"
      },
      "execution_count": 188,
      "outputs": [
        {
          "output_type": "execute_result",
          "data": {
            "text/plain": [
              "        A1       A2        A3        A4        A5\n",
              "28  1.8023  0.63418  0.055953 -0.027163 -0.011489\n",
              "29  1.8444  0.81830  0.106950  0.007756 -0.003866\n",
              "30  1.8670  1.00320  0.158610  0.052864  0.007847\n",
              "31  1.8701  1.18700  0.208780  0.107270  0.023233"
            ],
            "text/html": [
              "\n",
              "  <div id=\"df-8547ef7e-f889-4ce5-b553-6e48304afa06\">\n",
              "    <div class=\"colab-df-container\">\n",
              "      <div>\n",
              "<style scoped>\n",
              "    .dataframe tbody tr th:only-of-type {\n",
              "        vertical-align: middle;\n",
              "    }\n",
              "\n",
              "    .dataframe tbody tr th {\n",
              "        vertical-align: top;\n",
              "    }\n",
              "\n",
              "    .dataframe thead th {\n",
              "        text-align: right;\n",
              "    }\n",
              "</style>\n",
              "<table border=\"1\" class=\"dataframe\">\n",
              "  <thead>\n",
              "    <tr style=\"text-align: right;\">\n",
              "      <th></th>\n",
              "      <th>A1</th>\n",
              "      <th>A2</th>\n",
              "      <th>A3</th>\n",
              "      <th>A4</th>\n",
              "      <th>A5</th>\n",
              "    </tr>\n",
              "  </thead>\n",
              "  <tbody>\n",
              "    <tr>\n",
              "      <th>28</th>\n",
              "      <td>1.8023</td>\n",
              "      <td>0.63418</td>\n",
              "      <td>0.055953</td>\n",
              "      <td>-0.027163</td>\n",
              "      <td>-0.011489</td>\n",
              "    </tr>\n",
              "    <tr>\n",
              "      <th>29</th>\n",
              "      <td>1.8444</td>\n",
              "      <td>0.81830</td>\n",
              "      <td>0.106950</td>\n",
              "      <td>0.007756</td>\n",
              "      <td>-0.003866</td>\n",
              "    </tr>\n",
              "    <tr>\n",
              "      <th>30</th>\n",
              "      <td>1.8670</td>\n",
              "      <td>1.00320</td>\n",
              "      <td>0.158610</td>\n",
              "      <td>0.052864</td>\n",
              "      <td>0.007847</td>\n",
              "    </tr>\n",
              "    <tr>\n",
              "      <th>31</th>\n",
              "      <td>1.8701</td>\n",
              "      <td>1.18700</td>\n",
              "      <td>0.208780</td>\n",
              "      <td>0.107270</td>\n",
              "      <td>0.023233</td>\n",
              "    </tr>\n",
              "  </tbody>\n",
              "</table>\n",
              "</div>\n",
              "      <button class=\"colab-df-convert\" onclick=\"convertToInteractive('df-8547ef7e-f889-4ce5-b553-6e48304afa06')\"\n",
              "              title=\"Convert this dataframe to an interactive table.\"\n",
              "              style=\"display:none;\">\n",
              "        \n",
              "  <svg xmlns=\"http://www.w3.org/2000/svg\" height=\"24px\"viewBox=\"0 0 24 24\"\n",
              "       width=\"24px\">\n",
              "    <path d=\"M0 0h24v24H0V0z\" fill=\"none\"/>\n",
              "    <path d=\"M18.56 5.44l.94 2.06.94-2.06 2.06-.94-2.06-.94-.94-2.06-.94 2.06-2.06.94zm-11 1L8.5 8.5l.94-2.06 2.06-.94-2.06-.94L8.5 2.5l-.94 2.06-2.06.94zm10 10l.94 2.06.94-2.06 2.06-.94-2.06-.94-.94-2.06-.94 2.06-2.06.94z\"/><path d=\"M17.41 7.96l-1.37-1.37c-.4-.4-.92-.59-1.43-.59-.52 0-1.04.2-1.43.59L10.3 9.45l-7.72 7.72c-.78.78-.78 2.05 0 2.83L4 21.41c.39.39.9.59 1.41.59.51 0 1.02-.2 1.41-.59l7.78-7.78 2.81-2.81c.8-.78.8-2.07 0-2.86zM5.41 20L4 18.59l7.72-7.72 1.47 1.35L5.41 20z\"/>\n",
              "  </svg>\n",
              "      </button>\n",
              "      \n",
              "  <style>\n",
              "    .colab-df-container {\n",
              "      display:flex;\n",
              "      flex-wrap:wrap;\n",
              "      gap: 12px;\n",
              "    }\n",
              "\n",
              "    .colab-df-convert {\n",
              "      background-color: #E8F0FE;\n",
              "      border: none;\n",
              "      border-radius: 50%;\n",
              "      cursor: pointer;\n",
              "      display: none;\n",
              "      fill: #1967D2;\n",
              "      height: 32px;\n",
              "      padding: 0 0 0 0;\n",
              "      width: 32px;\n",
              "    }\n",
              "\n",
              "    .colab-df-convert:hover {\n",
              "      background-color: #E2EBFA;\n",
              "      box-shadow: 0px 1px 2px rgba(60, 64, 67, 0.3), 0px 1px 3px 1px rgba(60, 64, 67, 0.15);\n",
              "      fill: #174EA6;\n",
              "    }\n",
              "\n",
              "    [theme=dark] .colab-df-convert {\n",
              "      background-color: #3B4455;\n",
              "      fill: #D2E3FC;\n",
              "    }\n",
              "\n",
              "    [theme=dark] .colab-df-convert:hover {\n",
              "      background-color: #434B5C;\n",
              "      box-shadow: 0px 1px 3px 1px rgba(0, 0, 0, 0.15);\n",
              "      filter: drop-shadow(0px 1px 2px rgba(0, 0, 0, 0.3));\n",
              "      fill: #FFFFFF;\n",
              "    }\n",
              "  </style>\n",
              "\n",
              "      <script>\n",
              "        const buttonEl =\n",
              "          document.querySelector('#df-8547ef7e-f889-4ce5-b553-6e48304afa06 button.colab-df-convert');\n",
              "        buttonEl.style.display =\n",
              "          google.colab.kernel.accessAllowed ? 'block' : 'none';\n",
              "\n",
              "        async function convertToInteractive(key) {\n",
              "          const element = document.querySelector('#df-8547ef7e-f889-4ce5-b553-6e48304afa06');\n",
              "          const dataTable =\n",
              "            await google.colab.kernel.invokeFunction('convertToInteractive',\n",
              "                                                     [key], {});\n",
              "          if (!dataTable) return;\n",
              "\n",
              "          const docLinkHtml = 'Like what you see? Visit the ' +\n",
              "            '<a target=\"_blank\" href=https://colab.research.google.com/notebooks/data_table.ipynb>data table notebook</a>'\n",
              "            + ' to learn more about interactive tables.';\n",
              "          element.innerHTML = '';\n",
              "          dataTable['output_type'] = 'display_data';\n",
              "          await google.colab.output.renderOutput(dataTable, element);\n",
              "          const docLink = document.createElement('div');\n",
              "          docLink.innerHTML = docLinkHtml;\n",
              "          element.appendChild(docLink);\n",
              "        }\n",
              "      </script>\n",
              "    </div>\n",
              "  </div>\n",
              "  "
            ]
          },
          "metadata": {},
          "execution_count": 188
        }
      ]
    },
    {
      "cell_type": "code",
      "source": [
        "df_plot = pd.DataFrame({\"A1_True\": test.reset_index()[\"A1\"], \"A1_predicted\": df_result[\"A1\"]})"
      ],
      "metadata": {
        "id": "y1yMJ5nxHTOf"
      },
      "execution_count": 189,
      "outputs": []
    },
    {
      "cell_type": "code",
      "source": [
        "df_plot.plot()"
      ],
      "metadata": {
        "colab": {
          "base_uri": "https://localhost:8080/",
          "height": 282
        },
        "id": "uoT38QyhbB5M",
        "outputId": "8b4311fe-6e19-420d-ab51-561f51de2c88"
      },
      "execution_count": 190,
      "outputs": [
        {
          "output_type": "execute_result",
          "data": {
            "text/plain": [
              "<matplotlib.axes._subplots.AxesSubplot at 0x7f0f65e66310>"
            ]
          },
          "metadata": {},
          "execution_count": 190
        },
        {
          "output_type": "display_data",
          "data": {
            "text/plain": [
              "<Figure size 432x288 with 1 Axes>"
            ],
            "image/png": "[encoded data removed]"
          },
          "metadata": {
            "needs_background": "light"
          }
        }
      ]
    },
    {
      "cell_type": "code",
      "source": [
        "df_plot_2 = pd.DataFrame({\"A2_True\": test.reset_index()[\"A2\"], \"A2_predicted\": df_result[\"A2\"]})\n",
        "df_plot_2.plot()"
      ],
      "metadata": {
        "colab": {
          "base_uri": "https://localhost:8080/",
          "height": 282
        },
        "id": "1sPu4LvCyPVc",
        "outputId": "f642f2f2-0ee0-4bc2-abc4-9bfb0b4464b1"
      },
      "execution_count": 193,
      "outputs": [
        {
          "output_type": "execute_result",
          "data": {
            "text/plain": [
              "<matplotlib.axes._subplots.AxesSubplot at 0x7f0f65e44070>"
            ]
          },
          "metadata": {},
          "execution_count": 193
        },
        {
          "output_type": "display_data",
          "data": {
            "text/plain": [
              "<Figure size 432x288 with 1 Axes>"
            ],
            "image/png": "[encoded data removed]"
          },
          "metadata": {
            "needs_background": "light"
          }
        }
      ]
    },
    {
      "cell_type": "code",
      "source": [
        "df_plot_3 = pd.DataFrame({\"A3_True\": test.reset_index()[\"A3\"], \"A3_predicted\": df_result[\"A3\"]})\n",
        "df_plot_3.plot()"
      ],
      "metadata": {
        "colab": {
          "base_uri": "https://localhost:8080/",
          "height": 282
        },
        "id": "E7EWhU3ZyUxD",
        "outputId": "4e8400b8-fbb8-462d-90ed-aabce3d61c17"
      },
      "execution_count": 194,
      "outputs": [
        {
          "output_type": "execute_result",
          "data": {
            "text/plain": [
              "<matplotlib.axes._subplots.AxesSubplot at 0x7f0f642ad9a0>"
            ]
          },
          "metadata": {},
          "execution_count": 194
        },
        {
          "output_type": "display_data",
          "data": {
            "text/plain": [
              "<Figure size 432x288 with 1 Axes>"
            ],
            "image/png": "[encoded data removed]"
          },
          "metadata": {
            "needs_background": "light"
          }
        }
      ]
    },
    {
      "cell_type": "code",
      "source": [
        "df_plot_4 = pd.DataFrame({\"A4_True\": test.reset_index()[\"A4\"], \"A4_predicted\": df_result[\"A4\"]})\n",
        "df_plot_4.plot()"
      ],
      "metadata": {
        "colab": {
          "base_uri": "https://localhost:8080/",
          "height": 282
        },
        "id": "4O1_P3aIyfNL",
        "outputId": "3a0bee5c-0d1a-4976-ad8a-28dd4c4b06a3"
      },
      "execution_count": 195,
      "outputs": [
        {
          "output_type": "execute_result",
          "data": {
            "text/plain": [
              "<matplotlib.axes._subplots.AxesSubplot at 0x7f0f65eab070>"
            ]
          },
          "metadata": {},
          "execution_count": 195
        },
        {
          "output_type": "display_data",
          "data": {
            "text/plain": [
              "<Figure size 432x288 with 1 Axes>"
            ],
            "image/png": "[encoded data removed]"
          },
          "metadata": {
            "needs_background": "light"
          }
        }
      ]
    },
    {
      "cell_type": "code",
      "source": [
        "df_plot_5 = pd.DataFrame({\"A5_True\": test.reset_index()[\"A5\"], \"A5_predicted\": df_result[\"A5\"]})\n",
        "df_plot_5.plot()"
      ],
      "metadata": {
        "colab": {
          "base_uri": "https://localhost:8080/",
          "height": 286
        },
        "id": "Q5AxVzs7ykWE",
        "outputId": "d19bd259-1884-4ba9-ee0c-9e1a68f2a3c2"
      },
      "execution_count": 196,
      "outputs": [
        {
          "output_type": "execute_result",
          "data": {
            "text/plain": [
              "<matplotlib.axes._subplots.AxesSubplot at 0x7f0f65ceaa60>"
            ]
          },
          "metadata": {},
          "execution_count": 196
        },
        {
          "output_type": "display_data",
          "data": {
            "text/plain": [
              "<Figure size 432x288 with 1 Axes>"
            ],
            "image/png": "[encoded data removed]"
          },
          "metadata": {
            "needs_background": "light"
          }
        }
      ]
    },
    {
      "cell_type": "code",
      "source": [],
      "metadata": {
        "id": "Y00vSjdgyqX7"
      },
      "execution_count": null,
      "outputs": []
    }
  ],
  "metadata": {
    "colab": {
      "provenance": [],
      "include_colab_link": true
    },
    "kernelspec": {
      "display_name": "Python 3",
      "name": "python3"
    }
  },
  "nbformat": 4,
  "nbformat_minor": 0
}